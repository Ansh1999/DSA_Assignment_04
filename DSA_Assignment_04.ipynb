{
 "cells": [
  {
   "cell_type": "markdown",
   "id": "accdd99b",
   "metadata": {},
   "source": [
    "**Question 1**\n",
    "Given three integer arrays arr1, arr2 and arr3 **sorted** in **strictly increasing** order, return a sorted array of **only** the integers that appeared in **all** three arrays.\n",
    "\n",
    "**Example 1:**\n",
    "\n",
    "Input: arr1 = [1,2,3,4,5], arr2 = [1,2,5,7,9], arr3 = [1,3,4,5,8]\n",
    "\n",
    "Output: [1,5]\n",
    "\n",
    "**Explanation:** Only 1 and 5 appeared in the three arrays."
   ]
  },
  {
   "cell_type": "code",
   "execution_count": 31,
   "id": "bc9ee08f",
   "metadata": {},
   "outputs": [],
   "source": [
    "def common(nums1,nums2,nums3):\n",
    "    l=[]\n",
    "    length=min(len(nums1),len(nums2),len(nums3))\n",
    "    if len(nums1)==length:\n",
    "        nums=nums1\n",
    "    elif len(nums2)==length:\n",
    "        nums=nums2\n",
    "    else:\n",
    "        nums=nums3\n",
    "    for i in range(length):\n",
    "        if nums1.count(nums[i])>0 and nums2.count(nums[i])>0 and nums3.count(nums[i]):\n",
    "            l.append(nums[i])\n",
    "    return l"
   ]
  },
  {
   "cell_type": "code",
   "execution_count": 32,
   "id": "5a3e243c",
   "metadata": {},
   "outputs": [
    {
     "data": {
      "text/plain": [
       "[1, 3, 5]"
      ]
     },
     "execution_count": 32,
     "metadata": {},
     "output_type": "execute_result"
    }
   ],
   "source": [
    "common([1,2,3,4,5],[1,2,3,5,7,9,11],[1,3,4,5,8,10,12])"
   ]
  },
  {
   "cell_type": "markdown",
   "id": "4d56cb39",
   "metadata": {},
   "source": [
    "**Question 2**\n",
    "\n",
    "Given two **0-indexed** integer arrays nums1 and nums2, return *a list* answer *of size* 2 *where:*\n",
    "\n",
    "- answer[0] *is a list of all **distinct** integers in* nums1 *which are **not** present in* nums2*.*\n",
    "- answer[1] *is a list of all **distinct** integers in* nums2 *which are **not** present in* nums1.\n",
    "\n",
    "**Note** that the integers in the lists may be returned in **any** order.\n",
    "\n",
    "**Example 1:**\n",
    "\n",
    "**Input:** nums1 = [1,2,3], nums2 = [2,4,6]\n",
    "\n",
    "**Output:** [[1,3],[4,6]]\n",
    "\n",
    "**Explanation:**\n",
    "\n",
    "For nums1, nums1[1] = 2 is present at index 0 of nums2, whereas nums1[0] = 1 and nums1[2] = 3 are not present in nums2. Therefore, answer[0] = [1,3].\n",
    "\n",
    "For nums2, nums2[0] = 2 is present at index 1 of nums1, whereas nums2[1] = 4 and nums2[2] = 6 are not present in nums2. Therefore, answer[1] = [4,6].\n"
   ]
  },
  {
   "cell_type": "code",
   "execution_count": 6,
   "id": "a31030c1",
   "metadata": {},
   "outputs": [],
   "source": [
    "def present(nums1,nums2):\n",
    "    l=[]\n",
    "    answer=[]\n",
    "    for i in nums1:\n",
    "        if nums2.count(i)==0:\n",
    "            l.append(i)\n",
    "    answer.append(l)\n",
    "    l=[]\n",
    "    for j in nums2:\n",
    "        if nums1.count(j)==0:\n",
    "            l.append(j)\n",
    "    answer.append(l)\n",
    "    return answer"
   ]
  },
  {
   "cell_type": "code",
   "execution_count": 7,
   "id": "4571b8a3",
   "metadata": {},
   "outputs": [
    {
     "data": {
      "text/plain": [
       "[[1, 3], [4, 6]]"
      ]
     },
     "execution_count": 7,
     "metadata": {},
     "output_type": "execute_result"
    }
   ],
   "source": [
    "present([1,2,3],[2,4,6]) "
   ]
  },
  {
   "cell_type": "markdown",
   "id": "bf0f4ea7",
   "metadata": {},
   "source": [
    "**Question 3**\n",
    "Given a 2D integer array matrix, return *the **transpose** of* matrix.\n",
    "\n",
    "The **transpose** of a matrix is the matrix flipped over its main diagonal, switching the matrix's row and column indices.\n",
    "\n",
    "**Example 1:**\n",
    "\n",
    "Input: matrix = [[1,2,3],[4,5,6],[7,8,9]]\n",
    "\n",
    "Output: [[1,4,7],[2,5,8],[3,6,9]]\n"
   ]
  },
  {
   "cell_type": "code",
   "execution_count": 36,
   "id": "220a5676",
   "metadata": {},
   "outputs": [],
   "source": [
    "def transpose(matrix):\n",
    "    rows = len(matrix)\n",
    "    cols = len(matrix[0])\n",
    "    trans_matrix = [[0 for _ in range(rows)] for _ in range(cols)]\n",
    "    for i in range(rows):\n",
    "        for j in range(cols):\n",
    "            trans_matrix[j][i] = matrix[i][j]\n",
    "\n",
    "    return trans_matrix"
   ]
  },
  {
   "cell_type": "code",
   "execution_count": 37,
   "id": "b5267e14",
   "metadata": {},
   "outputs": [
    {
     "data": {
      "text/plain": [
       "[[1, 4, 7], [2, 5, 8], [3, 6, 9]]"
      ]
     },
     "execution_count": 37,
     "metadata": {},
     "output_type": "execute_result"
    }
   ],
   "source": [
    "transpose([[1,2,3],[4,5,6],[7,8,9]])"
   ]
  },
  {
   "cell_type": "markdown",
   "id": "8c210619",
   "metadata": {},
   "source": [
    "**Question 4**\n",
    "Given an integer array nums of 2n integers, group these integers into n pairs (a1, b1), (a2, b2), ..., (an, bn) such that the sum of min(ai, bi) for all i is **maximized**. Return *the maximized sum*.\n",
    "\n",
    "**Example 1:**\n",
    "\n",
    "Input: nums = [1,4,3,2]\n",
    "\n",
    "Output: 4\n",
    "\n",
    "**Explanation:** All possible pairings (ignoring the ordering of elements) are:\n",
    "\n",
    "1. (1, 4), (2, 3) -> min(1, 4) + min(2, 3) = 1 + 2 = 3\n",
    "\n",
    "2. (1, 3), (2, 4) -> min(1, 3) + min(2, 4) = 1 + 2 = 3\n",
    "\n",
    "3. (1, 2), (3, 4) -> min(1, 2) + min(3, 4) = 1 + 3 = 4\n",
    "\n",
    "So the maximum possible sum is 4.\n"
   ]
  },
  {
   "cell_type": "code",
   "execution_count": 34,
   "id": "42c97730",
   "metadata": {},
   "outputs": [],
   "source": [
    "def pair_sum(nums):\n",
    "    nums.sort()\n",
    "    sum=0\n",
    "    for i in range(0, len(nums), 2):\n",
    "        sum+=nums[i]\n",
    "    return sum"
   ]
  },
  {
   "cell_type": "code",
   "execution_count": 35,
   "id": "ba87efa2",
   "metadata": {},
   "outputs": [
    {
     "data": {
      "text/plain": [
       "4"
      ]
     },
     "execution_count": 35,
     "metadata": {},
     "output_type": "execute_result"
    }
   ],
   "source": [
    "pair_sum([1,4,3,2])"
   ]
  },
  {
   "cell_type": "markdown",
   "id": "c20121be",
   "metadata": {},
   "source": [
    "**Question 5**\n",
    "\n",
    "You have n coins and you want to build a staircase with these coins. The staircase consists of k rows where the ith row has exactly i coins. The last row of the staircase **may be** incomplete.\n",
    "\n",
    "Given the integer n, return *the number of **complete rows** of the staircase you will build*.\n",
    "\n",
    "**Input:** n = 5\n",
    "\n",
    "**Output:** 2\n",
    "\n",
    "**Explanation:** Because the 3rd row is incomplete, we return 2."
   ]
  },
  {
   "cell_type": "code",
   "execution_count": 19,
   "id": "dcae5b38",
   "metadata": {},
   "outputs": [],
   "source": [
    "def staircase(n):\n",
    "    i=0\n",
    "    while 1:\n",
    "        i+=1\n",
    "        n-=i\n",
    "        if i>=n:\n",
    "            break\n",
    "    return i"
   ]
  },
  {
   "cell_type": "code",
   "execution_count": 20,
   "id": "4870ce6a",
   "metadata": {},
   "outputs": [
    {
     "data": {
      "text/plain": [
       "2"
      ]
     },
     "execution_count": 20,
     "metadata": {},
     "output_type": "execute_result"
    }
   ],
   "source": [
    "staircase(5)"
   ]
  },
  {
   "cell_type": "markdown",
   "id": "39a43ba5",
   "metadata": {},
   "source": [
    "\n",
    "**Question 6**\n",
    "Given an integer array nums sorted in **non-decreasing** order, return *an array of **the squares of each number** sorted in non-decreasing order*.\n",
    "\n",
    "**Example 1:**\n",
    "\n",
    "Input: nums = [-4,-1,0,3,10]\n",
    "\n",
    "Output: [0,1,9,16,100]\n",
    "\n",
    "**Explanation:** After squaring, the array becomes [16,1,0,9,100].\n",
    "After sorting, it becomes [0,1,9,16,100]\n"
   ]
  },
  {
   "cell_type": "code",
   "execution_count": 23,
   "id": "5a137a20",
   "metadata": {},
   "outputs": [],
   "source": [
    "def square(nums): \n",
    "    return sorted(list(map(lambda x:x*x,nums)))"
   ]
  },
  {
   "cell_type": "code",
   "execution_count": 24,
   "id": "abd7d12e",
   "metadata": {},
   "outputs": [
    {
     "data": {
      "text/plain": [
       "[0, 1, 9, 16, 100]"
      ]
     },
     "execution_count": 24,
     "metadata": {},
     "output_type": "execute_result"
    }
   ],
   "source": [
    "square([-4,-1,0,3,10])"
   ]
  },
  {
   "cell_type": "markdown",
   "id": "e4767f89",
   "metadata": {},
   "source": [
    "\n",
    "**Question 8**\n",
    "\n",
    "Given the array nums consisting of 2n elements in the form [x1,x2,...,xn,y1,y2,...,yn].\n",
    "\n",
    "*Return the array in the form* [x1,y1,x2,y2,...,xn,yn].\n",
    "\n",
    "**Example 1:**\n",
    "\n",
    "**Input:** nums = [2,5,1,3,4,7], n = 3\n",
    "\n",
    "**Output:** [2,3,5,4,1,7]\n",
    "\n",
    "**Explanation:** Since x1=2, x2=5, x3=1, y1=3, y2=4, y3=7 then the answer is [2,3,5,4,1,7]."
   ]
  },
  {
   "cell_type": "code",
   "execution_count": 29,
   "id": "89a3e33f",
   "metadata": {},
   "outputs": [],
   "source": [
    "def elements(nums):\n",
    "    l=[]\n",
    "    i,j=0,int(len(nums)/2)\n",
    "    while j<len(nums):\n",
    "        l.extend([nums[i],nums[j]])\n",
    "        i+=1\n",
    "        j+=1\n",
    "    return l"
   ]
  },
  {
   "cell_type": "code",
   "execution_count": 30,
   "id": "47951a5a",
   "metadata": {},
   "outputs": [
    {
     "data": {
      "text/plain": [
       "[2, 3, 5, 4, 1, 7]"
      ]
     },
     "execution_count": 30,
     "metadata": {},
     "output_type": "execute_result"
    }
   ],
   "source": [
    "elements([2,5,1,3,4,7])"
   ]
  },
  {
   "cell_type": "code",
   "execution_count": null,
   "id": "5fd376b1",
   "metadata": {},
   "outputs": [],
   "source": []
  }
 ],
 "metadata": {
  "kernelspec": {
   "display_name": "Python 3 (ipykernel)",
   "language": "python",
   "name": "python3"
  },
  "language_info": {
   "codemirror_mode": {
    "name": "ipython",
    "version": 3
   },
   "file_extension": ".py",
   "mimetype": "text/x-python",
   "name": "python",
   "nbconvert_exporter": "python",
   "pygments_lexer": "ipython3",
   "version": "3.9.13"
  }
 },
 "nbformat": 4,
 "nbformat_minor": 5
}
